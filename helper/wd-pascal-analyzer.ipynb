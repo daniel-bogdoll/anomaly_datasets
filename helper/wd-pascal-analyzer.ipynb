{
 "cells": [
  {
   "cell_type": "code",
   "execution_count": null,
   "metadata": {},
   "outputs": [],
   "source": [
    "import numpy as np\n",
    "from PIL import Image\n",
    "from matplotlib import cm\n",
    "import matplotlib.pyplot as plt"
   ]
  },
  {
   "cell_type": "code",
   "execution_count": null,
   "metadata": {},
   "outputs": [],
   "source": [
    "base_path = \"/datasets/wd-pascal/\"\n",
    "img_path = base_path + \"/img/34_img.png\"\n",
    "np_path = base_path + \"/label/34_label.npy\""
   ]
  },
  {
   "cell_type": "code",
   "execution_count": null,
   "metadata": {},
   "outputs": [],
   "source": [
    "arr = np.load(np_path)\n",
    "img = Image.open(img_path)\n",
    "ids = np.unique(arr)"
   ]
  },
  {
   "cell_type": "code",
   "execution_count": null,
   "metadata": {},
   "outputs": [],
   "source": [
    "label_img = Image.fromarray(np.uint8(cm.binary(arr))*255)\n",
    "label_img = Image.fromarray(arr).convert('L')"
   ]
  },
  {
   "cell_type": "code",
   "execution_count": null,
   "metadata": {},
   "outputs": [],
   "source": [
    "fig, axs = plt.subplots(1,2)\n",
    "axs[0].imshow(img)\n",
    "axs[1].imshow(label_img)\n",
    "plt.show()"
   ]
  },
  {
   "cell_type": "code",
   "execution_count": null,
   "metadata": {},
   "outputs": [],
   "source": [
    "plt.axis('off')\n",
    "plt.imshow(img)\n",
    "plt.imsave(\"img.png\", img)\n",
    "plt.imshow(label_img)\n",
    "plt.imsave(\"label.png\",label_img)\n",
    "\n",
    "img.save(\"img_1.png\")\n",
    "label_img.save(\"label_2.png\")"
   ]
  }
 ],
 "metadata": {
  "kernelspec": {
   "display_name": "env",
   "language": "python",
   "name": "python3"
  },
  "language_info": {
   "codemirror_mode": {
    "name": "ipython",
    "version": 3
   },
   "file_extension": ".py",
   "mimetype": "text/x-python",
   "name": "python",
   "nbconvert_exporter": "python",
   "pygments_lexer": "ipython3",
   "version": "3.8.10 (default, Nov 14 2022, 12:59:47) \n[GCC 9.4.0]"
  },
  "orig_nbformat": 4,
  "vscode": {
   "interpreter": {
    "hash": "b341d9a555f44191c7e86e1c04ad853b13695a838f8a88a2f685d82582ea568a"
   }
  }
 },
 "nbformat": 4,
 "nbformat_minor": 2
}
